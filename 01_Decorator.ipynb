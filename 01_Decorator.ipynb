{
 "cells": [
  {
   "cell_type": "code",
   "execution_count": 1,
   "metadata": {
    "collapsed": false
   },
   "outputs": [
    {
     "data": {
      "text/html": [
       "\n",
       "        <iframe\n",
       "            width=\"750\"\n",
       "            height=\"562\"\n",
       "            src=\"https://www.youtube.com/embed/sPiWg5jSoZI\"\n",
       "            frameborder=\"0\"\n",
       "            allowfullscreen\n",
       "        ></iframe>\n",
       "        "
      ],
      "text/plain": [
       "<IPython.lib.display.YouTubeVideo at 0x104b06b70>"
      ]
     },
     "execution_count": 1,
     "metadata": {},
     "output_type": "execute_result"
    }
   ],
   "source": [
    "from IPython.display import YouTubeVideo\n",
    "YouTubeVideo(\"sPiWg5jSoZI\", width = 750, height = 562)"
   ]
  },
  {
   "cell_type": "markdown",
   "metadata": {},
   "source": [
    "## Metaprogramming with Example\n",
    "\n",
    "- 以下相關例子是我在看完上面影片之後所寫下的，一方面是節錄重點，一方面是為影片中的例子下一些註解，以方便了解這些例子的原理。\n",
    "\n",
    "- 由於我接觸 python 大概才一年多，而且不是資工領域出身，所以如果有什麼對於 OOP 說明錯誤的部分，煩請見諒並不吝指教。\n",
    "\n",
    "- 希望你會喜歡這些例子 :)\n",
    "\n",
    "**As a reminder....**\n",
    "\n",
    "**If you do everything in this tutorial all at once. You will either be fired or have permanent job security**\n",
    "\n",
    "-----"
   ]
  },
  {
   "cell_type": "markdown",
   "metadata": {},
   "source": [
    "**為什麼我們需要 Metaprogramming ?**\n",
    "\n",
    "- 簡化與控制。\n",
    "- 也就是當你發現你的 code 有很多地方\"長很像\"的時候，或是想要控制使用者的使用方式等情況時可以用的工具。\n",
    "- 一般來說，99% 的 python programmer 不需要了解這些事情就可以寫出非常有用的 code 。\n",
    "- 但對我來說，這些東西真的太酷了，讓我不得不研究它。XD\n",
    "- 以下的例子將會模擬一些實際開發時可能會碰到的狀態，並一步步使用 Metaprogramming 的技巧去抽象並簡化 code 。\n",
    "- 我會假設你會一些基本的 python 包括:\n",
    "  - 基本的 python 語法: if, while, ....\n",
    "  - 基本的資料形態: int, str, float,....\n",
    "  - 內建的一些資料結構: list, dict, ...\n",
    "  - 懂得如何定義 function 與 class。\n",
    "  - 知道什麼是 \\*args 與 \\**kwargs"
   ]
  },
  {
   "cell_type": "markdown",
   "metadata": {},
   "source": [
    "### Chapter 1: Function Decorator\n",
    "\n",
    "白話文註解: Function Decorator(函式修飾器)就是一個吃 function 吐 function 的 function。\n",
    "(好啦....我承認有點兒繞口)\n",
    "\n",
    "來看一些例子吧!!"
   ]
  },
  {
   "cell_type": "markdown",
   "metadata": {},
   "source": [
    "**Use Case: Debugging**\n",
    "\n",
    "- 一般來說，我們會寫很多的 function 去為我們做一些重複性的工作。\n",
    "- 譬如 insert_into_DB、remove_from_DB .....etc\n",
    "- 之後我們可能會用這些 function 寫一個很複雜的 function 去完成一件複雜的事，姑且叫它 complex_work 吧! "
   ]
  },
  {
   "cell_type": "code",
   "execution_count": 2,
   "metadata": {
    "collapsed": true
   },
   "outputs": [],
   "source": [
    "def insert_into_DB(key, value):\n",
    "    \"\"\"\n",
    "    麻煩運用一點點想像力，想像一下這個 function 會把資料送進一個資料庫。\n",
    "    \"\"\"\n",
    "    pass\n",
    "\n",
    "def remove_from_DB(key):\n",
    "    \"\"\"\n",
    "    運用想像力！運用想像力！運用想像力！\n",
    "    (很重要所以要說 3 次)\n",
    "    \"\"\"\n",
    "    pass\n",
    "\n",
    "def complex_work(msg):\n",
    "    print(msg)\n",
    "    \n",
    "    orders = [\"42998\", \"41335\", \"11253\"]\n",
    "    closed = [\"3311\", \"51224\", \"9561\", \"9527\"] \n",
    "    \n",
    "    for order in orders:\n",
    "        insert_into_DB(order, \"waiting\")\n",
    "        \n",
    "    for case in closed:\n",
    "        remove_from_DB(case)\n",
    "        \n",
    "    \"\"\"\n",
    "    想像一下這邊還有一堆 code 都用到 insert_into_DB 跟 remove_from_DB。\n",
    "    \"\"\""
   ]
  },
  {
   "cell_type": "code",
   "execution_count": 3,
   "metadata": {
    "collapsed": false
   },
   "outputs": [
    {
     "name": "stdout",
     "output_type": "stream",
     "text": [
      "\n",
      "    麻煩運用一點點想像力，想像一下這個 function 會把資料送進一個資料庫。\n",
      "    \n"
     ]
    }
   ],
   "source": [
    "# 在函式中用 \"\"\" 括起來的跨行字串就是所謂的 doc string\n",
    "print(insert_into_DB.__doc__)"
   ]
  },
  {
   "cell_type": "code",
   "execution_count": 4,
   "metadata": {
    "collapsed": true
   },
   "outputs": [],
   "source": [
    "# 假設這個 complex_work 有時候可以動有時候不能動。(Bug 出現了!)\n",
    "# 問題來了，當 insert_into_DB 這些 helper function 在 complex_work 裡被呼叫時，我想 print 出一些訊息。\n",
    "# 你可能會寫出這樣的 code:\n",
    "\n",
    "def insert_into_DB(key, value):\n",
    "    \"\"\"\n",
    "    麻煩運用一點點想像力，想像一下這個 function 會把資料送進一個資料庫。\n",
    "    \"\"\"\n",
    "    print(\"insert_into_DB is invoked!\") # 加入了 print\n",
    "    pass\n",
    "\n",
    "def remove_from_DB(key):\n",
    "    \"\"\"\n",
    "    運用想像力！運用想像力！運用想像力！\n",
    "    (很重要所以要說 3 次)\n",
    "    \"\"\"\n",
    "    print(\"remove_from_DB is invoked!\") # 還是加了 print\n",
    "    pass\n",
    "\n",
    "def complex_work(msg):\n",
    "    print(msg)\n",
    "    \n",
    "    orders = [\"42998\", \"41335\", \"11253\"]\n",
    "    closed = [\"3311\", \"51224\", \"9561\", \"9527\"] \n",
    "    \n",
    "    for order in orders:\n",
    "        insert_into_DB(order, \"waiting\")\n",
    "        \n",
    "    for case in closed:\n",
    "        remove_from_DB(case)\n",
    "        \n",
    "    \"\"\"\n",
    "    想像一下這邊還有一堆 code 都用到 insert_into_DB 跟 remove_from_DB。\n",
    "    \"\"\""
   ]
  },
  {
   "cell_type": "markdown",
   "metadata": {},
   "source": [
    "嗯.....老是打 print 有點兒討厭 =   =a\n",
    "\n",
    "(你或許會想才兩個還好啦~那假如有 100 個咧? 這 100 還要 print 不一樣的訊息喔!)\n",
    "\n",
    "有沒有更有效率(懶)的方法啊?\n",
    "\n",
    "**Function Decorator will save your day!**"
   ]
  },
  {
   "cell_type": "code",
   "execution_count": 5,
   "metadata": {
    "collapsed": true
   },
   "outputs": [],
   "source": [
    "def log_decorator(fun): \n",
    "    # 還記得我說過 function decorator 是個吃 function 吐 function 的 function 嗎?\n",
    "    \n",
    "    def wrapped(*args, **kwargs): \n",
    "        # 使用 *args 跟 **kwargs 是為了讓 wrapped 與原來的 fun 有一樣的 api。\n",
    "        print(fun.__name__ + \" is invoked!\")\n",
    "        fun(*args, **kwargs)\n",
    "    \n",
    "    return wrapped"
   ]
  },
  {
   "cell_type": "markdown",
   "metadata": {},
   "source": [
    "好....來看看怎麼用它!"
   ]
  },
  {
   "cell_type": "code",
   "execution_count": 6,
   "metadata": {
    "collapsed": false
   },
   "outputs": [
    {
     "name": "stdout",
     "output_type": "stream",
     "text": [
      "insert_into_DB is invoked!\n"
     ]
    }
   ],
   "source": [
    "def insert_into_DB(key, value):\n",
    "    \"\"\"\n",
    "    麻煩運用一點點想像力，想像一下這個 function 會把資料送進一個資料庫。\n",
    "    \"\"\"\n",
    "    pass\n",
    "\n",
    "def remove_from_DB(key):\n",
    "    \"\"\"\n",
    "    運用想像力！運用想像力！運用想像力！\n",
    "    (很重要所以要說 3 次)\n",
    "    \"\"\"\n",
    "    pass\n",
    "\n",
    "insert_into_DB = log_decorator(insert_into_DB) # 這行有點兒討厭....我要打兩次 insert_into_DB (DRY!)\n",
    "insert_into_DB(\"33\", \"waiting\")"
   ]
  },
  {
   "cell_type": "markdown",
   "metadata": {},
   "source": [
    "嗯.....我知道它會動了啦，但是怎麼把討厭的那行改掉咧?\n",
    "\n",
    "Python 已經為追求效率(懶)的你想好囉~(啾咪)"
   ]
  },
  {
   "cell_type": "code",
   "execution_count": 7,
   "metadata": {
    "collapsed": false
   },
   "outputs": [
    {
     "name": "stdout",
     "output_type": "stream",
     "text": [
      "insert_into_DB is invoked!\n",
      "remove_from_DB is invoked!\n"
     ]
    }
   ],
   "source": [
    "# 用 @ 一切搞定\n",
    "@log_decorator\n",
    "def insert_into_DB(key, value):\n",
    "    \"\"\"\n",
    "    麻煩運用一點點想像力，想像一下這個 function 會把資料送進一個資料庫。\n",
    "    \"\"\"\n",
    "    pass\n",
    "\n",
    "\"\"\"\n",
    "所以上面這幾行等價於 insert_into_DB = log_decorator(insert_into_DB)\n",
    "酷吧!\n",
    "\"\"\"\n",
    "\n",
    "@log_decorator\n",
    "def remove_from_DB(key):\n",
    "    \"\"\"\n",
    "    運用想像力！運用想像力！運用想像力！\n",
    "    (很重要所以要說 3 次)\n",
    "    \"\"\"\n",
    "    pass\n",
    "\n",
    "insert_into_DB(\"33\", \"waiting\")\n",
    "remove_from_DB(\"33\")"
   ]
  },
  {
   "cell_type": "markdown",
   "metadata": {},
   "source": [
    "(呼呼~動了! 等等....難不成有 100 個 function 我就要打 100 次 @log_decorator)\n",
    "\n",
    "有 100 個的話可以用複製貼上啊~\n",
    "\n",
    "\n",
    "\n",
    "可是我就是討厭複製貼上嘛!!(懶到極點)\n",
    "\n",
    "有了這個 log_decorator ，我們就可以做這樣的事:"
   ]
  },
  {
   "cell_type": "code",
   "execution_count": 8,
   "metadata": {
    "collapsed": false
   },
   "outputs": [],
   "source": [
    "def insert_into_DB(key, value):\n",
    "    \"\"\"\n",
    "    麻煩運用一點點想像力，想像一下這個 function 會把資料送進一個資料庫。\n",
    "    \"\"\"\n",
    "    pass\n",
    "\n",
    "def remove_from_DB(key):\n",
    "    \"\"\"\n",
    "    運用想像力！運用想像力！運用想像力！\n",
    "    (很重要所以要說 3 次)\n",
    "    \"\"\"\n",
    "    pass\n",
    "\n",
    "\"\"\"\n",
    "然後想像一下你在這邊定義了一堆函數都是你想要 logging 的...\n",
    "\n",
    "def a():\n",
    "    .....\n",
    "    \n",
    "def b():\n",
    "    ....\n",
    "\n",
    "def c():\n",
    "    ....\n",
    "\n",
    "......\n",
    "......\n",
    "\n",
    "\"\"\"\n",
    "\n",
    "####### 魔法開始! ######\n",
    "to_update = []\n",
    "\n",
    "name = val = None\n",
    "for name, val in globals().items():\n",
    "    if callable(val) and name != \"log_decorator\":\n",
    "        to_update.append(name)\n",
    "        \n",
    "for name in to_update:\n",
    "    fun = globals()[name]\n",
    "    globals()[name] = log_decorator(fun)"
   ]
  },
  {
   "cell_type": "code",
   "execution_count": 9,
   "metadata": {
    "collapsed": false
   },
   "outputs": [
    {
     "name": "stdout",
     "output_type": "stream",
     "text": [
      "insert_into_DB is invoked!\n",
      "remove_from_DB is invoked!\n"
     ]
    }
   ],
   "source": [
    "insert_into_DB(\"33\", \"waiting\")\n",
    "remove_from_DB(\"33\")"
   ]
  },
  {
   "cell_type": "markdown",
   "metadata": {},
   "source": [
    "全部自動加好了耶~~~ 呀呼!!"
   ]
  },
  {
   "cell_type": "code",
   "execution_count": 10,
   "metadata": {
    "collapsed": false
   },
   "outputs": [
    {
     "name": "stdout",
     "output_type": "stream",
     "text": [
      "None\n"
     ]
    }
   ],
   "source": [
    "## 來看一下他們的 doc string\n",
    "print(insert_into_DB.__doc__)"
   ]
  },
  {
   "cell_type": "markdown",
   "metadata": {},
   "source": [
    "Shit! 本來的 doc string 去了哪裡了!?\n",
    "\n",
    "當然，學會 decorator 的你應該已經想到要如何去解決這個問題。\n",
    "\n",
    "(因為只是重複性的把原來的 \\_\\_doc\\_\\_ 複製給 wrapped.\\_\\_doc\\_\\_)\n",
    "\n",
    "但關於這方面的事，python 已經幫你做好了!\n",
    "\n",
    "All you need is `functools`!"
   ]
  },
  {
   "cell_type": "code",
   "execution_count": 11,
   "metadata": {
    "collapsed": false
   },
   "outputs": [
    {
     "name": "stdout",
     "output_type": "stream",
     "text": [
      "test_doc_string is invoked!\n",
      "\n",
      "    我是 __doc__ !\n",
      "    \n"
     ]
    }
   ],
   "source": [
    "from functools import wraps\n",
    "\n",
    "# 重新實做一個會保留 doc string 的 log_decorator\n",
    "def log_decorator(func):\n",
    "    \n",
    "    @wraps(func) # 咦? decorator 也能有參數喔?\n",
    "    def wrapped(*args, **kwargs):\n",
    "        print(func.__name__ + \" is invoked!\")\n",
    "    \n",
    "    return wrapped\n",
    "\n",
    "@log_decorator\n",
    "def test_doc_string():\n",
    "    \"\"\"\n",
    "    我是 __doc__ !\n",
    "    \"\"\"\n",
    "    pass\n",
    "\n",
    "\n",
    "test_doc_string()\n",
    "print(test_doc_string.__doc__)"
   ]
  },
  {
   "cell_type": "markdown",
   "metadata": {},
   "source": [
    "呀呼~~~ doc string 被保留了而且 decorator 正常運作耶!\n",
    "\n",
    "但是....@wraps(func) 又是怎麼回事? decorator 也能穿參數嗎?\n",
    "\n",
    "其實他是這麼運作的，讓我們看下面這個例子:"
   ]
  },
  {
   "cell_type": "code",
   "execution_count": 12,
   "metadata": {
    "collapsed": false
   },
   "outputs": [
    {
     "name": "stdout",
     "output_type": "stream",
     "text": [
      "Hello, everybody~\n",
      "\n",
      "    My name is b!\n",
      "    \n"
     ]
    }
   ],
   "source": [
    "def log_with_msg(msg):\n",
    "    \n",
    "    def decorator(fun):\n",
    "        \n",
    "        @wraps(fun)\n",
    "        def wrapped(*args, **kwargs):\n",
    "            print(msg)\n",
    "            fun(*args, **kwargs)\n",
    "        return wrapped\n",
    "        \n",
    "    return decorator\n",
    "\n",
    "@log_with_msg(\"Hello, everybody~\")     #1\n",
    "def b():\n",
    "    \"\"\"\n",
    "    My name is b!\n",
    "    \"\"\"\n",
    "    pass\n",
    "\n",
    "b()\n",
    "print(b.__doc__)"
   ]
  },
  {
   "cell_type": "markdown",
   "metadata": {},
   "source": [
    "所以 python 其實是這麼使用 @decorator 的:\n",
    "\n",
    "- 如果 decorator 是個 function，直接把接下來定義的 function 送進 decorator 裡。\n",
    "- 如果 decorator 是個 function call，則把回傳的值當作 decorator 用。\n",
    "\n",
    "下一章節我們會進入超有趣的 Descripter ，它是個可以讓你限制或操弄使用者行為的 decorator ，酷吧!"
   ]
  },
  {
   "cell_type": "markdown",
   "metadata": {},
   "source": [
    "---\n",
    "\n",
    "### Class Decorator\n",
    "\n",
    "- 你寫好了這些 decorator 並把它用來對定義在 class 中的 method 。\n",
    "- 但問題來了，有個 class 裡有很多 method ，你開始覺得老是要打 @decorator 在每個 method 上面很麻煩。\n",
    "- 你希望一次把所有的 method 都修飾一遍。\n",
    "- 用 `class decorator` 就可以幫你達成。\n",
    "- 顧名思義，`class decorator` 是個吃 `class` 吐 `class` 的 `decorator`。\n",
    "- 用以下的例子說明："
   ]
  },
  {
   "cell_type": "code",
   "execution_count": 13,
   "metadata": {
    "collapsed": true
   },
   "outputs": [],
   "source": [
    "from functools import wraps\n",
    "\n",
    "def debug_decorator(fun):\n",
    "    \"\"\" \n",
    "    debug 用的一般 function decorator\n",
    "    \"\"\"\n",
    "    \n",
    "    @wraps(fun)\n",
    "    def wrapped(*args, **kwargs):\n",
    "        print(fun.__name__, \" is invoked!\")\n",
    "        print(\"args: \", args)\n",
    "        print(\"kwargs\", kwargs)\n",
    "        print()\n",
    "        \n",
    "        fun(*args, **kwargs)\n",
    "    \n",
    "    return wrapped\n",
    "\n",
    "# 現在假如你想用它來為 methods debug:\n",
    "class MyClass:\n",
    "    \n",
    "    @debug_decorator\n",
    "    def method1(self, x, y = 3):\n",
    "        return x + y\n",
    "    \n",
    "    @debug_decorator\n",
    "    def method2(self, name = \"qmal\"):\n",
    "        print(name)\n",
    "        \n",
    "    @debug_decorator\n",
    "    def method3(self, key, val, zeta = \"zeta\"):\n",
    "        return {key: val, \"zeta\":zeta}\n",
    "    "
   ]
  },
  {
   "cell_type": "code",
   "execution_count": 14,
   "metadata": {
    "collapsed": false
   },
   "outputs": [
    {
     "name": "stdout",
     "output_type": "stream",
     "text": [
      "method1  is invoked!\n",
      "args:  (<__main__.MyClass object at 0x104b10ef0>, 3, 1)\n",
      "kwargs {}\n",
      "\n",
      "method2  is invoked!\n",
      "args:  (<__main__.MyClass object at 0x104b10ef0>, 'ycl')\n",
      "kwargs {}\n",
      "\n",
      "ycl\n",
      "method3  is invoked!\n",
      "args:  (<__main__.MyClass object at 0x104b10ef0>, 'price', 100)\n",
      "kwargs {'zeta': 'spiderman'}\n",
      "\n"
     ]
    }
   ],
   "source": [
    "mc = MyClass()\n",
    "mc.method1(3, 1)\n",
    "mc.method2(\"ycl\")\n",
    "mc.method3(\"price\", 100, zeta = \"spiderman\")"
   ]
  },
  {
   "cell_type": "markdown",
   "metadata": {},
   "source": [
    "Ok....但是一直 `@debug_decorator` 真的很煩....\n",
    "\n",
    "來試試看 `class decorator` !"
   ]
  },
  {
   "cell_type": "code",
   "execution_count": 15,
   "metadata": {
    "collapsed": false
   },
   "outputs": [],
   "source": [
    "# 定義一個 class decorator 的方法很簡單，一樣是一個 function\n",
    "def debug_methods(cls):\n",
    "    \"\"\"\n",
    "    把所有 method 都用 debug_decorator 修飾。\n",
    "    \"\"\"\n",
    "    for key, val in vars(cls).items():\n",
    "        if callable(val):\n",
    "            setattr(cls, key, debug_decorator(val))\n",
    "    return cls # 別忘了 return 修飾過的 class 噢!\n",
    "\n",
    "@debug_methods\n",
    "class MyClass2:\n",
    "    \n",
    "    def method1(self, x, y = 3):\n",
    "        return x + y\n",
    "    \n",
    "    def method2(self, name = \"qmal\"):\n",
    "        print(name)\n",
    "        \n",
    "    def method3(self, key, val, zeta = \"zeta\"):\n",
    "        return {key: val, \"zeta\":zeta}"
   ]
  },
  {
   "cell_type": "code",
   "execution_count": 16,
   "metadata": {
    "collapsed": false
   },
   "outputs": [
    {
     "name": "stdout",
     "output_type": "stream",
     "text": [
      "method1  is invoked!\n",
      "args:  (<__main__.MyClass2 object at 0x1050ca0b8>, 3, 1)\n",
      "kwargs {}\n",
      "\n",
      "method2  is invoked!\n",
      "args:  (<__main__.MyClass2 object at 0x1050ca0b8>, 'ycl')\n",
      "kwargs {}\n",
      "\n",
      "ycl\n",
      "method3  is invoked!\n",
      "args:  (<__main__.MyClass2 object at 0x1050ca0b8>, 'price', 100)\n",
      "kwargs {'zeta': 'spiderman'}\n",
      "\n"
     ]
    }
   ],
   "source": [
    "mc2 = MyClass2()\n",
    "mc2.method1(3, 1)\n",
    "mc2.method2(\"ycl\")\n",
    "mc2.method3(\"price\", 100, zeta = \"spiderman\")"
   ]
  },
  {
   "cell_type": "markdown",
   "metadata": {},
   "source": [
    "Yeah\\~~!! Works perfectly!"
   ]
  },
  {
   "cell_type": "markdown",
   "metadata": {},
   "source": [
    "------\n",
    "\n",
    "以下是自我遊玩區XDD"
   ]
  },
  {
   "cell_type": "code",
   "execution_count": 17,
   "metadata": {
    "collapsed": true
   },
   "outputs": [],
   "source": [
    "## 把所有 decorator 包進一個 class 裡 (單純好玩XD)\n",
    "\n",
    "from functools import wraps\n",
    "\n",
    "class Decoretors:\n",
    "    \n",
    "    @classmethod\n",
    "    def log_name(cls, fun):\n",
    "        \n",
    "        @wraps(fun)\n",
    "        def wrapper(*args, **kwargs):\n",
    "            print(fun.__name__ + \" invoked!\")\n",
    "            print(\"Doc string: \", fun.__doc__)\n",
    "            fun(*args, **kwargs)\n",
    "        \n",
    "        return wrapper\n",
    "    \n",
    "    @classmethod\n",
    "    def log_local(cls, fun):\n",
    "        \n",
    "        @wraps(fun)\n",
    "        def wrapper(*args, **kwargs):\n",
    "            print(\"locals: \", locals())\n",
    "            fun(*args, **kwargs)\n",
    "        \n",
    "        return wrapper\n",
    "    \n",
    "    @classmethod\n",
    "    def log_global(cls, fun):\n",
    "        \n",
    "        @wraps(fun)\n",
    "        def wrapper(*args, **kwargs):\n",
    "            print(\"globals: \", globals())\n",
    "            fun(*args, **kwargs)\n",
    "            \n",
    "        return wrapper"
   ]
  },
  {
   "cell_type": "code",
   "execution_count": 18,
   "metadata": {
    "collapsed": false
   },
   "outputs": [
    {
     "name": "stdout",
     "output_type": "stream",
     "text": [
      "add invoked!\n",
      "Doc string:  \n",
      "    Add x and y.\n",
      "    \n",
      "locals:  {'args': (3, 5), 'kwargs': {}, 'fun': <function add at 0x1050cfa60>}\n"
     ]
    }
   ],
   "source": [
    "@Decoretors.log_name\n",
    "@Decoretors.log_local\n",
    "def add(x, y):\n",
    "    \"\"\"\n",
    "    Add x and y.\n",
    "    \"\"\"\n",
    "    return x + y\n",
    "\n",
    "add(3, 5)"
   ]
  },
  {
   "cell_type": "code",
   "execution_count": null,
   "metadata": {
    "collapsed": true
   },
   "outputs": [],
   "source": []
  }
 ],
 "metadata": {
  "kernelspec": {
   "display_name": "Python 3",
   "language": "python",
   "name": "python3"
  },
  "language_info": {
   "codemirror_mode": {
    "name": "ipython",
    "version": 3
   },
   "file_extension": ".py",
   "mimetype": "text/x-python",
   "name": "python",
   "nbconvert_exporter": "python",
   "pygments_lexer": "ipython3",
   "version": "3.4.1"
  }
 },
 "nbformat": 4,
 "nbformat_minor": 0
}
