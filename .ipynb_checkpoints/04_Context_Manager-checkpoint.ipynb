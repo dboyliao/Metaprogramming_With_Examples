{
 "cells": [
  {
   "cell_type": "markdown",
   "metadata": {},
   "source": [
    "### Context Manager 環境管理器\n",
    "\n",
    "這一個章節的內容主要來自于 \"Programming in Python3\" 這本書，\n",
    "\n",
    "加上我一些說明，希望有更清楚一些。\n",
    "\n",
    "![](http://www.qtrac.eu/py3bookm.png)\n",
    "\n",
    "<center>\n",
    "(這是一本很囉唆的好書，如果你喜歡研究一些細節的東西，蠻建議買來看看)\n",
    "</center>"
   ]
  },
  {
   "cell_type": "markdown",
   "metadata": {},
   "source": [
    "----\n",
    "\n",
    "什麼是 context manager ?\n",
    "\n",
    "在 python 裡，如果你有一個 context manager 例如說 cm ，\n",
    "\n",
    "你就可以使用 `with` 陳述句例如：\n",
    "\n",
    "    with cm as f:\n",
    "        \"\"\"\n",
    "        do something with f ...\n",
    "        \"\"\"\n",
    "        ...\n",
    "\n",
    "簡單的來說，一個環境管理器就是有實做 `__enter__` 與 `__exit__` 兩個特殊方法的物件。\n",
    "\n",
    "以最常見的檔案物件來說:"
   ]
  },
  {
   "cell_type": "code",
   "execution_count": 3,
   "metadata": {
    "collapsed": true
   },
   "outputs": [],
   "source": [
    "file = open(\"sample.txt\", \"r\")"
   ]
  },
  {
   "cell_type": "code",
   "execution_count": 10,
   "metadata": {
    "collapsed": false
   },
   "outputs": [
    {
     "data": {
      "text/plain": [
       "True"
      ]
     },
     "execution_count": 10,
     "metadata": {},
     "output_type": "execute_result"
    }
   ],
   "source": [
    "\"__enter__\" in dir(file) and \"__exit__\" in dir(file) # 的確有 __enter__ 與 __exit__"
   ]
  },
  {
   "cell_type": "code",
   "execution_count": 11,
   "metadata": {
    "collapsed": true
   },
   "outputs": [],
   "source": [
    "file.close() # 嗯....每次都要記得 close 真麻煩。"
   ]
  },
  {
   "cell_type": "markdown",
   "metadata": {},
   "source": [
    "科技始終來自于人性，人性總是不離惰性。\n",
    "\n",
    "藉由 `__enter__` 與 `__exit__` 你可以有效率地管理這些事情。(開一個檔案、關檔案...etc)"
   ]
  },
  {
   "cell_type": "code",
   "execution_count": 12,
   "metadata": {
    "collapsed": false
   },
   "outputs": [
    {
     "name": "stdout",
     "output_type": "stream",
     "text": [
      "\n",
      "如果還有明天\n",
      "\n",
      "作詞：劉偉仁\n",
      "作曲：劉偉仁\n",
      "\n",
      "我們都有看不開的時候　總有冷落自己的舉動\n",
      "但是我一定會提醒自己　如果還有明天\n",
      "\n",
      "我們都有傷心的時候　總不在乎這種感受\n",
      "但是我要把握每次感動　如果還有明天\n",
      "\n",
      "＊如果還有明天　你想怎樣裝扮你的臉\n",
      "　如果沒有明天　要怎麼說再見\n",
      "\n",
      "如果你看出我的遲疑　是不是你也想要問我\n",
      "究竟有多少事還沒做　如果還有明天\n",
      "\n",
      "如果真的還能夠有明天　是否能把事情都做完\n",
      "是否一切也將雲消煙散　如果沒有明天\n",
      "\n",
      "Repeat ＊,＊,＊\n",
      "\n",
      "\n"
     ]
    }
   ],
   "source": [
    "# 使用 with \n",
    "with open(\"sample.txt\", \"r\") as file:\n",
    "    lyrics = file.read()\n",
    "    print(lyrics)"
   ]
  },
  {
   "cell_type": "code",
   "execution_count": 14,
   "metadata": {
    "collapsed": false
   },
   "outputs": [
    {
     "data": {
      "text/plain": [
       "True"
      ]
     },
     "execution_count": 14,
     "metadata": {},
     "output_type": "execute_result"
    }
   ],
   "source": [
    "file.closed # 正確地被關閉了!"
   ]
  },
  {
   "cell_type": "markdown",
   "metadata": {},
   "source": [
    "基本上，要實做一個環境管理器並不難，大致上要注意這幾點:\n",
    "\n",
    "1. `__enter__` 傳回的對象會指定給 `with` 陳述句後 `as` 的變數。( `with xxx as 變數: # <-- 就是它!`)\n",
    "2. 無論有沒有發生例外，`__exit__` 都會被執行。\n",
    "3. 例外會被捕捉並以參數的方式傳給 `__exit__`，你可以在 `__exit__` 中對例外做額外的處理。\n",
    "4. 若 `__exit__` 回傳的值為 True，則任何例外都不會向外傳遞，反之則向外傳遞。"
   ]
  },
  {
   "cell_type": "code",
   "execution_count": 22,
   "metadata": {
    "collapsed": true
   },
   "outputs": [],
   "source": [
    "## 實做一個看看吧!\n",
    "\n",
    "class MyOpenAsList:\n",
    "    \n",
    "    def __init__(self, filename, mode = None):\n",
    "        if not mode:\n",
    "            mode = \"r\"\n",
    "        self.__file = open(filename, mode)\n",
    "    \n",
    "    def __enter__(self):\n",
    "        print(\"Opening file!\")\n",
    "        content = self.__file.readlines()\n",
    "        return content\n",
    "    \n",
    "    def __exit__(self, exc_type, exc_val, exc_tb):\n",
    "        \"\"\"\n",
    "        exc_type: Exception type object (就是一個 class 啦!)\n",
    "        exc_val: 該 Exception 的 value\n",
    "        exc_tb: 一個 traceback object\n",
    "        \"\"\"\n",
    "        print(\"exc_type: \", exc_type)\n",
    "        print(\"exc_val:\", exc_val)\n",
    "        print(\"exc_tb: \", exc_tb)\n",
    "        print(\"Clossing file!\")\n",
    "        self.__file.close()\n",
    "        # 沒有回傳值，所以 MyOpenAsList 捕捉到的例外會向外傳遞。"
   ]
  },
  {
   "cell_type": "code",
   "execution_count": 23,
   "metadata": {
    "collapsed": false
   },
   "outputs": [
    {
     "name": "stdout",
     "output_type": "stream",
     "text": [
      "Opening file!\n",
      "\n",
      "如果還有明天\n",
      "\n",
      "作詞：劉偉仁\n",
      "作曲：劉偉仁\n",
      "\n",
      "我們都有看不開的時候　總有冷落自己的舉動\n",
      "但是我一定會提醒自己　如果還有明天\n",
      "\n",
      "我們都有傷心的時候　總不在乎這種感受\n",
      "但是我要把握每次感動　如果還有明天\n",
      "\n",
      "＊如果還有明天　你想怎樣裝扮你的臉\n",
      "　如果沒有明天　要怎麼說再見\n",
      "\n",
      "如果你看出我的遲疑　是不是你也想要問我\n",
      "究竟有多少事還沒做　如果還有明天\n",
      "\n",
      "如果真的還能夠有明天　是否能把事情都做完\n",
      "是否一切也將雲消煙散　如果沒有明天\n",
      "\n",
      "Repeat ＊,＊,＊\n",
      "\n",
      "\n",
      "exc_type:  None\n",
      "exc_val: None\n",
      "exc_tb:  None\n",
      "Clossing file!\n"
     ]
    }
   ],
   "source": [
    "with MyOpenAsList(\"sample.txt\") as content:\n",
    "    print(\"\".join(content))"
   ]
  },
  {
   "cell_type": "code",
   "execution_count": 25,
   "metadata": {
    "collapsed": false
   },
   "outputs": [
    {
     "name": "stdout",
     "output_type": "stream",
     "text": [
      "Opening file!\n",
      "exc_type:  <class 'OSError'>\n",
      "exc_val: can't open file\n",
      "exc_tb:  <traceback object at 0x107c3c788>\n",
      "Clossing file!\n"
     ]
    },
    {
     "ename": "OSError",
     "evalue": "can't open file",
     "output_type": "error",
     "traceback": [
      "\u001b[0;31m---------------------------------------------------------------------------\u001b[0m",
      "\u001b[0;31mOSError\u001b[0m                                   Traceback (most recent call last)",
      "\u001b[0;32m<ipython-input-25-22133fe3c24e>\u001b[0m in \u001b[0;36m<module>\u001b[0;34m()\u001b[0m\n\u001b[1;32m      1\u001b[0m \u001b[0;32mwith\u001b[0m \u001b[0mMyOpenAsList\u001b[0m\u001b[0;34m(\u001b[0m\u001b[0;34m\"sample.txt\"\u001b[0m\u001b[0;34m)\u001b[0m \u001b[0;32mas\u001b[0m \u001b[0mfile\u001b[0m\u001b[0;34m:\u001b[0m\u001b[0;34m\u001b[0m\u001b[0m\n\u001b[0;32m----> 2\u001b[0;31m     \u001b[0;32mraise\u001b[0m \u001b[0mOSError\u001b[0m\u001b[0;34m(\u001b[0m\u001b[0;34m\"can't open file\"\u001b[0m\u001b[0;34m)\u001b[0m\u001b[0;34m\u001b[0m\u001b[0m\n\u001b[0m",
      "\u001b[0;31mOSError\u001b[0m: can't open file"
     ]
    }
   ],
   "source": [
    "with MyOpenAsList(\"sample.txt\") as file:\n",
    "    raise OSError(\"can't open file\")"
   ]
  },
  {
   "cell_type": "markdown",
   "metadata": {},
   "source": [
    "這樣就簡單的實做了一個環境管理器。\n",
    "\n",
    "至於我說的所謂例外向外傳遞的這件事，\n",
    "\n",
    "我們用下面這個環境管理器來說明:"
   ]
  },
  {
   "cell_type": "code",
   "execution_count": 33,
   "metadata": {
    "collapsed": false
   },
   "outputs": [],
   "source": [
    "class MyOpenAsListSilent:\n",
    "    \n",
    "    def __init__(self, filename, mode = \"r\", silent = True):\n",
    "        self.silent = silent\n",
    "        self.filename = filename\n",
    "        try:\n",
    "            self.__file = open(filename, mode)\n",
    "        except Exception as e:\n",
    "            if not silent:\n",
    "                raise e\n",
    "    \n",
    "    def __enter__(self):\n",
    "        if getattr(self, \"_MyOpenAsListSilent__file\", None):\n",
    "            return self.__file.readlines()\n",
    "    \n",
    "    def __exit__(self, exc_type, exc_value, exc_tb):\n",
    "        if self.silent:\n",
    "            return True\n",
    "        if getattr(self, \"_MyOpenAsListSilent__file\", None):\n",
    "            self.__file.close()"
   ]
  },
  {
   "cell_type": "code",
   "execution_count": 36,
   "metadata": {
    "collapsed": true
   },
   "outputs": [],
   "source": [
    "with MyOpenAsListSilent(\"sample.txt\") as file:\n",
    "    raise Exception(\"Bad thing happend!\")\n",
    "\n",
    "with MyOpenAsListSilent(\"sample.txt\") as file:\n",
    "    raise IOError(\"Can't open file!\")"
   ]
  },
  {
   "cell_type": "markdown",
   "metadata": {},
   "source": [
    "所有 Exception 都不見了!!\n",
    "\n",
    "原因是因為這時候我們的 `__exit__` 都是回傳 `True`，這也就是剛剛說的不會向外傳遞的意思。"
   ]
  },
  {
   "cell_type": "code",
   "execution_count": 37,
   "metadata": {
    "collapsed": false
   },
   "outputs": [
    {
     "ename": "OSError",
     "evalue": "Can't open file!",
     "output_type": "error",
     "traceback": [
      "\u001b[0;31m---------------------------------------------------------------------------\u001b[0m",
      "\u001b[0;31mOSError\u001b[0m                                   Traceback (most recent call last)",
      "\u001b[0;32m<ipython-input-37-fb0e7b6903b7>\u001b[0m in \u001b[0;36m<module>\u001b[0;34m()\u001b[0m\n\u001b[1;32m      1\u001b[0m \u001b[0;32mwith\u001b[0m \u001b[0mMyOpenAsListSilent\u001b[0m\u001b[0;34m(\u001b[0m\u001b[0;34m\"sample.txt\"\u001b[0m\u001b[0;34m,\u001b[0m \u001b[0msilent\u001b[0m\u001b[0;34m=\u001b[0m\u001b[0;32mFalse\u001b[0m\u001b[0;34m)\u001b[0m \u001b[0;32mas\u001b[0m \u001b[0mfile\u001b[0m\u001b[0;34m:\u001b[0m\u001b[0;34m\u001b[0m\u001b[0m\n\u001b[0;32m----> 2\u001b[0;31m     \u001b[0;32mraise\u001b[0m \u001b[0mIOError\u001b[0m\u001b[0;34m(\u001b[0m\u001b[0;34m\"Can't open file!\"\u001b[0m\u001b[0;34m)\u001b[0m\u001b[0;34m\u001b[0m\u001b[0m\n\u001b[0m",
      "\u001b[0;31mOSError\u001b[0m: Can't open file!"
     ]
    }
   ],
   "source": [
    "with MyOpenAsListSilent(\"sample.txt\", silent=False) as file:\n",
    "    raise IOError(\"Can't open file!\")"
   ]
  },
  {
   "cell_type": "markdown",
   "metadata": {},
   "source": [
    "至於為什麼現在又可以了....自己想想吧! 不難噢~"
   ]
  }
 ],
 "metadata": {
  "kernelspec": {
   "display_name": "Python 3",
   "language": "python",
   "name": "python3"
  },
  "language_info": {
   "codemirror_mode": {
    "name": "ipython",
    "version": 3
   },
   "file_extension": ".py",
   "mimetype": "text/x-python",
   "name": "python",
   "nbconvert_exporter": "python",
   "pygments_lexer": "ipython3",
   "version": "3.4.1"
  }
 },
 "nbformat": 4,
 "nbformat_minor": 0
}
