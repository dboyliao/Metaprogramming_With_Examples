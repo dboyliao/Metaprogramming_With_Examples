{
 "cells": [
  {
   "cell_type": "code",
   "execution_count": 1,
   "metadata": {},
   "outputs": [
    {
     "data": {
      "text/html": [
       "\n",
       "        <iframe\n",
       "            width=\"750\"\n",
       "            height=\"562\"\n",
       "            src=\"https://www.youtube.com/embed/sPiWg5jSoZI?start=5250\"\n",
       "            frameborder=\"0\"\n",
       "            allowfullscreen\n",
       "        ></iframe>\n",
       "        "
      ],
      "text/plain": [
       "<IPython.lib.display.YouTubeVideo at 0x109d11a90>"
      ]
     },
     "execution_count": 1,
     "metadata": {},
     "output_type": "execute_result"
    }
   ],
   "source": [
    "from datetime import timedelta\n",
    "from IPython.display import YouTubeVideo\n",
    "\n",
    "start = int(timedelta(hours = 1, minutes = 27, seconds = 30).total_seconds())\n",
    "YouTubeVideo(\"sPiWg5jSoZI\", width = 750, height = 562, start = start)"
   ]
  },
  {
   "cell_type": "markdown",
   "metadata": {},
   "source": [
    "非常棒的參考資料: \n",
    "\n",
    "1. https://docs.python.org/3/reference/datamodel.html (官方文件)\n",
    "2. http://www.cafepy.com/article/python_types_and_objects/python_types_and_objects.html\n",
    "  - [archive](http://archive.is/IHmZe)\n",
    "3. https://github.com/dboyliao/Metaprogramming_With_Examples.git\n",
    "\n",
    "First Look:\n",
    "\n",
    "![](img/MetaClass.png)\n",
    "\n",
    "<center>\n",
    "<a href=http://www.cafepy.com/article/python_types_and_objects/python_types_and_objects.html#types_map>圖片來源</a>\n",
    "</center>"
   ]
  },
  {
   "cell_type": "markdown",
   "metadata": {},
   "source": [
    "- `class` 是 `type` 的實例。\n",
    "- `__new__` 與 `__init__` 必須要有一樣的 api\n",
    "- 所有 metaclass 皆為 `type` 的子類別。(簡而言之，所有 metaclass 必須繼承 `type`)\n",
    "- metaclass 的 `__new__` 與 `__init__` 之 api 大致上沒有變化，因為要遷就 `type`。"
   ]
  },
  {
   "cell_type": "markdown",
   "metadata": {},
   "source": [
    "----\n",
    "\n",
    "一個物件的生命週期: (例如要創造一個 `A` 的實例 `a`。)\n",
    "\n",
    "1. python 會呼叫 A.\\_\\_new\\_\\_ 創造一個物件 self 。\n",
    "2. 這個 self 會被 pass 給 A.\\_\\_init\\_\\_ 的第一個參數使用。 (**若 A.\\_\\_new\\_\\_ 沒有回傳值，則 A.\\_\\_init\\_\\_ 不會被呼叫。**)\n",
    "3. 執行 \\_\\_init\\_\\_ 進行物件初始化，並把此物見參照給變數 `a`\n",
    "4. del a 則可刪除 a 的物件參照，接者可能執行 garbage collection。\n",
    "\n",
    "\n",
    "一個 class 的生命週期: (例如創造一個 `BMeta` 的實例 `B`，`BMeta` 為一個 metaclass，`B` 為一個 class)\n",
    "\n",
    "1. python 呼叫 BMeta.\\_\\_new\\_\\_(mcl, name, bases, attrs) 創造一個新的物件(新的 class)，並回傳之。(mcl 為 BMeta, bases 為一個 tuple，表示新生成之 class 的繼承對象，attrs 為一個包含所有 class attributes 與 methods 的 dict)\n",
    "2. 由 BMeta.\\_\\_new\\_\\_ 所回傳的物件會被指定給 BMeta.\\_\\_init\\_\\_ 的第一個參數 cls。\n",
    "3. 執行 BMeta.\\_\\_init\\_\\_ 進行 cls 的初始化，並把初始化的結果參照給 `B`。\n",
    "4. del B 可刪除 B 。"
   ]
  },
  {
   "cell_type": "markdown",
   "metadata": {
    "collapsed": true
   },
   "source": [
    "- About `super()`: http://stackoverflow.com/questions/9056955/what-does-super-in-new"
   ]
  },
  {
   "cell_type": "code",
   "execution_count": 2,
   "metadata": {},
   "outputs": [],
   "source": [
    "class A(object):\n",
    "    _fields = []\n",
    "    \n",
    "    def __new__(cls, *args, **kwargs):\n",
    "        print(\"__new__ in A is called\") \n",
    "        print(\"cls in A: \", cls) # Note that cls need not to be A.\n",
    "        print(\"The argumets:\", args, kwargs) # We can access the args and kwargs here which will be later passed to __init__\n",
    "        obj = super(A, cls).__new__(cls)\n",
    "        obj.name = \"qmal\"\n",
    "        return obj\n",
    "\n",
    "    def __init__(self, *args, **kwargs):\n",
    "        for key, val in kwargs.items():\n",
    "            self.__dict__[key] = val\n",
    "        \n",
    "        to_add = [a for a in self._fields]\n",
    "        for key in kwargs.keys():\n",
    "            to_add.remove(key)\n",
    "        \n",
    "        for key, val in zip(to_add, args):\n",
    "            self.__dict__[key] = val"
   ]
  },
  {
   "cell_type": "code",
   "execution_count": 3,
   "metadata": {},
   "outputs": [
    {
     "name": "stdout",
     "output_type": "stream",
     "text": [
      "__new__ in A is called\n",
      "('cls in A: ', <class '__main__.A'>)\n",
      "('The argumets:', (1, 1), {})\n"
     ]
    },
    {
     "data": {
      "text/plain": [
       "<__main__.A at 0x109d11050>"
      ]
     },
     "execution_count": 3,
     "metadata": {},
     "output_type": "execute_result"
    }
   ],
   "source": [
    "A(1, 1)"
   ]
  },
  {
   "cell_type": "code",
   "execution_count": 4,
   "metadata": {
    "collapsed": true
   },
   "outputs": [],
   "source": [
    "class B(A):\n",
    "    _fields = [\"x\", \"y\"]\n",
    "    \n",
    "    def __init__(self, *args, **kwargs):\n",
    "        print(\"__init__ in {0} is called\".format(type(self).__name__))\n",
    "        super(B, self).__init__(*args, **kwargs)"
   ]
  },
  {
   "cell_type": "code",
   "execution_count": 5,
   "metadata": {},
   "outputs": [
    {
     "name": "stdout",
     "output_type": "stream",
     "text": [
      "__new__ in A is called\n",
      "('cls in A: ', <class '__main__.B'>)\n",
      "('The argumets:', (), {'y': 1, 'x': 1})\n",
      "__init__ in B is called\n"
     ]
    }
   ],
   "source": [
    "b = B(y = 1, x = 1) # 因為 B 沒有重新實做 __new__ ，所以 A.__new__ 被呼叫。"
   ]
  },
  {
   "cell_type": "code",
   "execution_count": 6,
   "metadata": {},
   "outputs": [
    {
     "data": {
      "text/plain": [
       "'qmal'"
      ]
     },
     "execution_count": 6,
     "metadata": {},
     "output_type": "execute_result"
    }
   ],
   "source": [
    "b.name"
   ]
  },
  {
   "cell_type": "code",
   "execution_count": 7,
   "metadata": {},
   "outputs": [
    {
     "data": {
      "text/plain": [
       "1"
      ]
     },
     "execution_count": 7,
     "metadata": {},
     "output_type": "execute_result"
    }
   ],
   "source": [
    "b.x"
   ]
  },
  {
   "cell_type": "code",
   "execution_count": 8,
   "metadata": {},
   "outputs": [
    {
     "data": {
      "text/plain": [
       "1"
      ]
     },
     "execution_count": 8,
     "metadata": {},
     "output_type": "execute_result"
    }
   ],
   "source": [
    "b.y"
   ]
  },
  {
   "cell_type": "code",
   "execution_count": 9,
   "metadata": {
    "collapsed": true
   },
   "outputs": [],
   "source": [
    "class C(object):\n",
    "    def __new__(cls):\n",
    "        print(\"C.__new__\")\n",
    "        print(id(super(C, cls).__new__), id(object.__new__))\n",
    "        obj = super(C, cls).__new__(cls)\n",
    "        return obj\n",
    "\n",
    "class D(object):\n",
    "    def __new__(cls):\n",
    "        print(\"D.__new__\")\n",
    "        print(id(super(D, cls).__new__), id(object.__new__))\n",
    "        obj = super(D, cls).__new__(cls)\n",
    "        return obj\n",
    "\n",
    "class E(D):\n",
    "    def __new__(cls):\n",
    "        print(\"E.__new__\")\n",
    "        print(id(super(E, cls).__new__), id(D.__new__))\n",
    "        obj = super(E, cls).__new__(cls)\n",
    "        return obj\n",
    "\n",
    "class F(C, D):\n",
    "    def __new__(cls):\n",
    "        print(\"F.__new__\")\n",
    "        print(id(super(F, cls).__new__), id(C.__new__), id(D.__new__))\n",
    "        obj = super(F, cls).__new__(cls)\n",
    "        return obj"
   ]
  },
  {
   "cell_type": "code",
   "execution_count": 10,
   "metadata": {},
   "outputs": [
    {
     "name": "stdout",
     "output_type": "stream",
     "text": [
      "C.__new__\n",
      "(4432937040, 4432937040)\n",
      "D.__new__\n",
      "(4432937040, 4432937040)\n",
      "E.__new__\n",
      "(4463913032, 4463913032)\n",
      "D.__new__\n",
      "(4432937040, 4432937040)\n",
      "F.__new__\n",
      "(4463913152, 4463913152, 4463913032)\n",
      "C.__new__\n",
      "(4463913032, 4432937040)\n",
      "D.__new__\n",
      "(4432937040, 4432937040)\n"
     ]
    },
    {
     "data": {
      "text/plain": [
       "<__main__.F at 0x109d11f90>"
      ]
     },
     "execution_count": 10,
     "metadata": {},
     "output_type": "execute_result"
    }
   ],
   "source": [
    "C()\n",
    "D()\n",
    "E()\n",
    "F()"
   ]
  },
  {
   "cell_type": "code",
   "execution_count": 11,
   "metadata": {
    "collapsed": true
   },
   "outputs": [],
   "source": [
    "# you can make __new__ do the work for __init__ but it is not a recommended python styple.\n",
    "class G(C):\n",
    "    def __new__(cls):\n",
    "        obj = super(G, cls).__new__(cls)\n",
    "        obj.a = 1\n",
    "        obj.b = 2\n",
    "        return obj"
   ]
  },
  {
   "cell_type": "code",
   "execution_count": 12,
   "metadata": {},
   "outputs": [
    {
     "name": "stdout",
     "output_type": "stream",
     "text": [
      "C.__new__\n",
      "(4432937040, 4432937040)\n"
     ]
    },
    {
     "data": {
      "text/plain": [
       "1"
      ]
     },
     "execution_count": 12,
     "metadata": {},
     "output_type": "execute_result"
    }
   ],
   "source": [
    "g = G()\n",
    "g.a"
   ]
  },
  {
   "cell_type": "code",
   "execution_count": 13,
   "metadata": {},
   "outputs": [
    {
     "data": {
      "text/plain": [
       "2"
      ]
     },
     "execution_count": 13,
     "metadata": {},
     "output_type": "execute_result"
    }
   ],
   "source": [
    "g.b"
   ]
  },
  {
   "cell_type": "markdown",
   "metadata": {},
   "source": [
    "----\n",
    "\n",
    "Metaclass 的 Use case:\n",
    "\n",
    "當你必須控制所有 class 的行為，而且這些行為不能因繼承被覆寫掉時。"
   ]
  },
  {
   "cell_type": "code",
   "execution_count": 22,
   "metadata": {},
   "outputs": [],
   "source": [
    "class MyMeta(type): \n",
    "    \n",
    "    def __new__(mcl, name, bases, attrs):\n",
    "        print(\"__new__ in {0} is called.\".format(mcl.__name__))\n",
    "        print(\"Metaclass: \", mcl)\n",
    "        print(\"Class Name: \", name)\n",
    "        print(\"Base Classes: \", bases)\n",
    "        print(\"Attributs and Methods: \\n\", attrs)\n",
    "        print \n",
    "        clsobj = super(MyMeta, mcl).__new__(mcl, name, bases, attrs)\n",
    "        return clsobj\n",
    "    \n",
    "    def __init__(cls, name, bases, attrs):\n",
    "        \n",
    "        print(\"__init__ in {0} is called\".format(type(cls).__name__))\n",
    "        print(\"New Class Created: \", cls)\n",
    "        print(\"Metaclass: \", type(cls))\n",
    "        cls.x = 1"
   ]
  },
  {
   "cell_type": "code",
   "execution_count": 23,
   "metadata": {},
   "outputs": [
    {
     "name": "stdout",
     "output_type": "stream",
     "text": [
      "__new__ in MyMeta is called.\n",
      "('Metaclass: ', <class '__main__.MyMeta'>)\n",
      "('Class Name: ', 'C')\n",
      "('Base Classes: ', (<class '__main__.A'>,))\n",
      "('Attributs and Methods: \\n', {'fun': <function fun at 0x10a5f2c80>, '__module__': '__main__', '__metaclass__': <class '__main__.MyMeta'>, '__new__': <function __new__ at 0x10a5f2b90>, '__init__': <function __init__ at 0x10a5f2c08>})\n",
      "\n",
      "__init__ in MyMeta is called\n",
      "('New Class Created: ', <class '__main__.C'>)\n",
      "('Metaclass: ', <class '__main__.MyMeta'>)\n"
     ]
    }
   ],
   "source": [
    "class C(A):\n",
    "    __metaclass__ = MyMeta\n",
    "    # A 會被傳給 bases\n",
    "    # metaclass 會被傳給 mcl\n",
    "    # 接下來定義的東西會被傳給 attrs\n",
    "    \n",
    "    def __new__(cls, y, z):\n",
    "        print(\"__new__ in {0} is called.\".format(cls.__name__))\n",
    "        print id(super(C, cls).__new__), id(A.__new__), id(object.__new__)\n",
    "        obj = super(C, cls).__new__(cls)\n",
    "        return obj\n",
    "    \n",
    "    def __init__(self, y, z):\n",
    "        print(\"__init__ in {0} is called.\".format(type(self).__name__))\n",
    "        self.y = y\n",
    "        self.z = z\n",
    "        \n",
    "    def fun(self, x):\n",
    "        return x + 1"
   ]
  },
  {
   "cell_type": "code",
   "execution_count": 24,
   "metadata": {},
   "outputs": [
    {
     "name": "stdout",
     "output_type": "stream",
     "text": [
      "__new__ in C is called.\n",
      "4463912672 4463912672 4432937040\n",
      "__new__ in A is called\n",
      "('cls in A: ', <class '__main__.C'>)\n",
      "('The argumets:', (), {})\n",
      "__init__ in C is called.\n"
     ]
    }
   ],
   "source": [
    "c = C(1, 2)"
   ]
  },
  {
   "cell_type": "code",
   "execution_count": 18,
   "metadata": {},
   "outputs": [
    {
     "data": {
      "text/plain": [
       "'qmal'"
      ]
     },
     "execution_count": 18,
     "metadata": {},
     "output_type": "execute_result"
    }
   ],
   "source": [
    "c.name # A 的 __new__ 加進來的"
   ]
  },
  {
   "cell_type": "code",
   "execution_count": 19,
   "metadata": {},
   "outputs": [
    {
     "data": {
      "text/plain": [
       "1"
      ]
     },
     "execution_count": 19,
     "metadata": {},
     "output_type": "execute_result"
    }
   ],
   "source": [
    "c.x # MyMeta 那兒搞來的"
   ]
  },
  {
   "cell_type": "markdown",
   "metadata": {},
   "source": [
    "----\n",
    "\n",
    "以下我們來看兩種生成一個 class D 的方式，\n",
    "\n",
    "完全是等價的。"
   ]
  },
  {
   "cell_type": "code",
   "execution_count": 11,
   "metadata": {},
   "outputs": [
    {
     "name": "stdout",
     "output_type": "stream",
     "text": [
      "__new__ in MyMeta is called.\n",
      "Metaclass:  <class '__main__.MyMeta'>\n",
      "Class Name:  D\n",
      "Base Classes:  (<class '__main__.A'>,)\n",
      "Attributs and Methods: \n",
      " {'__qualname__': 'D', '__module__': '__main__'}\n",
      "\n",
      "__init__ in MyMeta is called\n",
      "New Class Created:  <class '__main__.D'>\n",
      "Metaclass:  <class '__main__.MyMeta'>\n",
      "\n",
      "__new__ in A is called\n",
      "cls in A:  D\n"
     ]
    }
   ],
   "source": [
    "D = MyMeta.__new__(MyMeta, \"D\", (A, ), {'__qualname__': \"D\", '__module__': '__main__'})\n",
    "MyMeta.__init__(D, \"D\", (A, ), {})\n",
    "d1 = D()"
   ]
  },
  {
   "cell_type": "code",
   "execution_count": 12,
   "metadata": {},
   "outputs": [
    {
     "name": "stdout",
     "output_type": "stream",
     "text": [
      "__new__ in MyMeta is called.\n",
      "Metaclass:  <class '__main__.MyMeta'>\n",
      "Class Name:  D\n",
      "Base Classes:  (<class '__main__.A'>,)\n",
      "Attributs and Methods: \n",
      " {'__qualname__': 'D', '__module__': '__main__'}\n",
      "\n",
      "__init__ in MyMeta is called\n",
      "New Class Created:  <class '__main__.D'>\n",
      "Metaclass:  <class '__main__.MyMeta'>\n",
      "\n",
      "__new__ in A is called\n",
      "cls in A:  D\n"
     ]
    }
   ],
   "source": [
    "class D(A, metaclass = MyMeta):\n",
    "    pass\n",
    "d2 = D()"
   ]
  },
  {
   "cell_type": "markdown",
   "metadata": {},
   "source": [
    "以上兩種寫法等價。"
   ]
  },
  {
   "cell_type": "code",
   "execution_count": 13,
   "metadata": {},
   "outputs": [
    {
     "name": "stdout",
     "output_type": "stream",
     "text": [
      "1 qmal\n"
     ]
    }
   ],
   "source": [
    "print(d1.x, d1.name)"
   ]
  },
  {
   "cell_type": "code",
   "execution_count": 14,
   "metadata": {},
   "outputs": [
    {
     "name": "stdout",
     "output_type": "stream",
     "text": [
      "1 qmal\n"
     ]
    }
   ],
   "source": [
    "print(d2.x, d2.name)"
   ]
  },
  {
   "cell_type": "code",
   "execution_count": null,
   "metadata": {
    "collapsed": true
   },
   "outputs": [],
   "source": []
  }
 ],
 "metadata": {
  "kernelspec": {
   "display_name": "Python 3",
   "language": "python",
   "name": "python3"
  },
  "language_info": {
   "codemirror_mode": {
    "name": "ipython",
    "version": 3
   },
   "file_extension": ".py",
   "mimetype": "text/x-python",
   "name": "python",
   "nbconvert_exporter": "python",
   "pygments_lexer": "ipython3",
   "version": "3.6.2"
  }
 },
 "nbformat": 4,
 "nbformat_minor": 1
}
